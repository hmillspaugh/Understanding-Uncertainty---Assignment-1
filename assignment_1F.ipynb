{
 "cells": [
  {
   "cell_type": "markdown",
   "id": "87b91d83",
   "metadata": {},
   "source": [
    "# Assignment 1\n",
    "### Understanding Uncertainty\n",
    "### Due 9/5"
   ]
  },
  {
   "cell_type": "markdown",
   "id": "380e339f",
   "metadata": {},
   "source": [
    "1. Create a new public repo on Github under your account. Include a readme file.\n",
    "2. Clone it to your machine. Put this file into that repo.\n",
    "3. Use the following function to download the example data for the course:"
   ]
  },
  {
   "cell_type": "code",
   "execution_count": 33,
   "id": "2d62b4f6",
   "metadata": {},
   "outputs": [
    {
     "name": "stdout",
     "output_type": "stream",
     "text": [
      "Download file already exists\n",
      "Data directory already exists\n"
     ]
    }
   ],
   "source": [
    "def download_data(force=False):\n",
    "    \"\"\"Download and extract course data from Zenodo.\"\"\"\n",
    "    import urllib.request, zipfile, os\n",
    "    \n",
    "    zip_path = 'data.zip'\n",
    "    data_dir = 'data'\n",
    "    \n",
    "    if not os.path.exists(zip_path) or force:\n",
    "        print(\"Downloading course data\")\n",
    "        urllib.request.urlretrieve(\n",
    "            'https://zenodo.org/records/16954427/files/data.zip?download=1',\n",
    "            zip_path\n",
    "        )\n",
    "        print(\"Download complete\")\n",
    "    else:\n",
    "        print(\"Download file already exists\")\n",
    "        \n",
    "    if not os.path.exists(data_dir) or force:\n",
    "        print(\"Extracting data files...\")\n",
    "        with zipfile.ZipFile(zip_path, 'r') as zip_ref:\n",
    "            zip_ref.extractall(data_dir)\n",
    "        print(\"Data extracted\")\n",
    "    else:\n",
    "        print(\"Data directory already exists\")\n",
    "\n",
    "download_data()"
   ]
  },
  {
   "cell_type": "markdown",
   "id": "01db0045",
   "metadata": {},
   "source": [
    "4. Open one of the datasets using Pandas:\n",
    "    1. `ames_prices.csv`: Housing characteristics and prices\n",
    "    2. `college_completion.csv`: Public, nonprofit, and for-profit educational institutions, graduation rates, and financial aid\n",
    "    3. `ForeignGifts_edu.csv`: Monetary and in-kind transfers from foreign entities to U.S. educational institutions\n",
    "    4. `iowa.csv`: Liquor sales in Iowa, at the transaction level\n",
    "    5. `metabric.csv`: Cancer patient and outcome data\n",
    "    6. `mn_police_use_of_force.csv`: Records of physical altercations between Minnessota police and private citizens\n",
    "    7. `nhanes_data_17_18.csv`: National Health and Nutrition Examination Survey\n",
    "    8. `tuna.csv`: Yellowfin Tuna Genome (I don't recommend this one; it's just a sequence of G, C, A, T )\n",
    "    9. `va_procurement.csv`: Public spending by the state of Virginia"
   ]
  },
  {
   "cell_type": "code",
   "execution_count": 34,
   "id": "3e2178bf",
   "metadata": {},
   "outputs": [],
   "source": [
    "import pandas as pd\n",
    "\n",
    "Housing = pd.read_csv('/Users/hmillspaugh/Understanding-Uncertainty---Assignment-1/data/ames_prices.csv')"
   ]
  },
  {
   "cell_type": "markdown",
   "id": "fa5cade1",
   "metadata": {},
   "source": [
    "5. Pick two or three variables and briefly analyze them\n",
    "    - Is it a categorical or numeric variable?\n",
    "    - How many missing values are there? (`df['var'].isna()` and `np.sum()`)\n",
    "    - If categorical, tabulate the values (`df['var'].value_counts()`) and if numeric, get a summary (`df['var'].describe()`)"
   ]
  },
  {
   "cell_type": "code",
   "execution_count": 35,
   "id": "88142544",
   "metadata": {},
   "outputs": [
    {
     "data": {
      "text/plain": [
       "Index(['Order', 'PID', 'area', 'price', 'MS.SubClass', 'MS.Zoning',\n",
       "       'Lot.Frontage', 'Lot.Area', 'Street', 'Alley', 'Lot.Shape',\n",
       "       'Land.Contour', 'Utilities', 'Lot.Config', 'Land.Slope', 'Neighborhood',\n",
       "       'Condition.1', 'Condition.2', 'Bldg.Type', 'House.Style',\n",
       "       'Overall.Qual', 'Overall.Cond', 'Year.Built', 'Year.Remod.Add',\n",
       "       'Roof.Style', 'Roof.Matl', 'Exterior.1st', 'Exterior.2nd',\n",
       "       'Mas.Vnr.Type', 'Mas.Vnr.Area', 'Exter.Qual', 'Exter.Cond',\n",
       "       'Foundation', 'Bsmt.Qual', 'Bsmt.Cond', 'Bsmt.Exposure',\n",
       "       'BsmtFin.Type.1', 'BsmtFin.SF.1', 'BsmtFin.Type.2', 'BsmtFin.SF.2',\n",
       "       'Bsmt.Unf.SF', 'Total.Bsmt.SF', 'Heating', 'Heating.QC', 'Central.Air',\n",
       "       'Electrical', 'X1st.Flr.SF', 'X2nd.Flr.SF', 'Low.Qual.Fin.SF',\n",
       "       'Bsmt.Full.Bath', 'Bsmt.Half.Bath', 'Full.Bath', 'Half.Bath',\n",
       "       'Bedroom.AbvGr', 'Kitchen.AbvGr', 'Kitchen.Qual', 'TotRms.AbvGrd',\n",
       "       'Functional', 'Fireplaces', 'Fireplace.Qu', 'Garage.Type',\n",
       "       'Garage.Yr.Blt', 'Garage.Finish', 'Garage.Cars', 'Garage.Area',\n",
       "       'Garage.Qual', 'Garage.Cond', 'Paved.Drive', 'Wood.Deck.SF',\n",
       "       'Open.Porch.SF', 'Enclosed.Porch', 'X3Ssn.Porch', 'Screen.Porch',\n",
       "       'Pool.Area', 'Pool.QC', 'Fence', 'Misc.Feature', 'Misc.Val', 'Mo.Sold',\n",
       "       'Yr.Sold', 'Sale.Type', 'Sale.Condition'],\n",
       "      dtype='object')"
      ]
     },
     "execution_count": 35,
     "metadata": {},
     "output_type": "execute_result"
    }
   ],
   "source": [
    "# Display columns of the DataFrame\n",
    "Housing.columns"
   ]
  },
  {
   "cell_type": "code",
   "execution_count": 36,
   "id": "db92bb23",
   "metadata": {},
   "outputs": [
    {
     "name": "stdout",
     "output_type": "stream",
     "text": [
      "There are 0 missing values in the 'MS.Zoning' column. \n",
      "\n",
      "Here is a list of the unique values in the MS.Zoning column and their counts: \n",
      " MS.Zoning\n",
      "RL         2273\n",
      "RM          462\n",
      "FV          139\n",
      "RH           27\n",
      "C (all)      25\n",
      "I (all)       2\n",
      "A (agr)       2\n",
      "Name: count, dtype: int64\n"
     ]
    }
   ],
   "source": [
    "# Column 1: 'MS.Zoning'\n",
    "Missing_values1 = Housing[\"MS.Zoning\"].isna().sum()\n",
    "print(f\"There are {Missing_values1} missing values in the 'MS.Zoning' column. \\n\")\n",
    "\n",
    "Value_counts1 = Housing[\"MS.Zoning\"].value_counts()\n",
    "print(\"Here is a list of the unique values in the MS.Zoning column and their counts: \\n\", Value_counts1)\n"
   ]
  },
  {
   "cell_type": "code",
   "execution_count": 37,
   "id": "94b8e76d",
   "metadata": {},
   "outputs": [
    {
     "name": "stdout",
     "output_type": "stream",
     "text": [
      "There are 0 missing values in the 'price' column. \n",
      "\n",
      "Here is a summary of the 'price' column: \n",
      " count      2930.000000\n",
      "mean     180796.060068\n",
      "std       79886.692357\n",
      "min       12789.000000\n",
      "25%      129500.000000\n",
      "50%      160000.000000\n",
      "75%      213500.000000\n",
      "max      755000.000000\n",
      "Name: price, dtype: float64\n"
     ]
    }
   ],
   "source": [
    "# Column 2: 'price'\n",
    "Missing_values2 = Housing[\"price\"].isna().sum()\n",
    "print(f\"There are {Missing_values2} missing values in the 'price' column. \\n\")\n",
    "\n",
    "Value_counts2 = Housing[\"price\"].describe()\n",
    "print(\"Here is a summary of the 'price' column: \\n\", Value_counts2)\n"
   ]
  },
  {
   "cell_type": "markdown",
   "id": "dbf2318a",
   "metadata": {},
   "source": [
    "6. What are some questions and prediction tools you could create using these data? Who would the stakeholder be for that prediction tool? What practical or ethical questions would it create? What other data would you want, that are not available in your data?"
   ]
  },
  {
   "cell_type": "markdown",
   "id": "6b91b268",
   "metadata": {},
   "source": [
    "You could use these housing data to build tools that predict house prices or compare neighborhoods. A price prediction model could help buyers, sellers, realtors, and lenders estimate fair values, but it could also reinforce historical inequalities if past patterns of undervaluing crtain areas are baked into the model. A neighborhood comparison tool could show how prices vary by zoning or location. This could be useful for city planners, buyers, and developers, but it also raises concerns about gentrification and/or driving up costs in certain areas. Another peiece of data that could be relevant is some metric quantifying the drug use prevelance of the surrounding community. Recent reporting has suggested that developers sometimes coordinate with policymakers to buy properties in neighborhoods struggling with drug issues, capitalize on the low costs, and then support policies that “clean up” those areas. A community drug prevalence metric could help shed light on this relationship and potentially expose problematic housing practices by big developers."
   ]
  },
  {
   "cell_type": "markdown",
   "id": "a4a7ddc7",
   "metadata": {},
   "source": [
    "7. Commit your work to the repo (`git commit -am 'Finish assignment'` at the command line, or use the Git panel in VS Code). Push your work back to Github and submit the link on Canvas in the assignment tab."
   ]
  }
 ],
 "metadata": {
  "kernelspec": {
   "display_name": "ds6001",
   "language": "python",
   "name": "python3"
  },
  "language_info": {
   "codemirror_mode": {
    "name": "ipython",
    "version": 3
   },
   "file_extension": ".py",
   "mimetype": "text/x-python",
   "name": "python",
   "nbconvert_exporter": "python",
   "pygments_lexer": "ipython3",
   "version": "3.13.5"
  }
 },
 "nbformat": 4,
 "nbformat_minor": 5
}
