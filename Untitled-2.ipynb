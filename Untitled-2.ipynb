{
 "cells": [
  {
   "cell_type": "markdown",
   "id": "2f4e86fe",
   "metadata": {},
   "source": [
    "# Import Required Libraries\n",
    "Import pandas and numpy for data manipulation."
   ]
  },
  {
   "cell_type": "code",
   "execution_count": null,
   "id": "2244adbf",
   "metadata": {},
   "outputs": [],
   "source": [
    "import pandas as pd\n",
    "import numpy as np"
   ]
  },
  {
   "cell_type": "markdown",
   "id": "c486cf48",
   "metadata": {},
   "source": [
    "# Load Clinical Trial Data\n",
    "Read the 'Clinical_trial.csv' file into a pandas DataFrame."
   ]
  },
  {
   "cell_type": "code",
   "execution_count": null,
   "id": "f381c57d",
   "metadata": {},
   "outputs": [],
   "source": [
    "Clinical_trial = pd.read_csv(\"Clinical_trial.csv\")"
   ]
  },
  {
   "cell_type": "markdown",
   "id": "4e4cdcaf",
   "metadata": {},
   "source": [
    "# Display DataFrame\n",
    "Display the loaded DataFrame to inspect its contents."
   ]
  },
  {
   "cell_type": "code",
   "execution_count": null,
   "id": "722edc4d",
   "metadata": {},
   "outputs": [],
   "source": [
    "Clinical_trial"
   ]
  },
  {
   "cell_type": "markdown",
   "id": "56cb7366",
   "metadata": {},
   "source": [
    "# Summarize Pain Rating by Drug Type\n",
    "Use pandas groupby to calculate summary statistics (mean, std, count) of 'Pain_Rating' for each 'Drug'."
   ]
  },
  {
   "cell_type": "code",
   "execution_count": null,
   "id": "fd0d7fde",
   "metadata": {},
   "outputs": [],
   "source": [
    "summary = Clinical_trial.groupby(\"Drug\")[\"Pain_Rating\"].agg(['mean', 'std', 'count'])\n",
    "summary"
   ]
  },
  {
   "cell_type": "markdown",
   "id": "069cefcd",
   "metadata": {},
   "source": [
    "# Visualize Pain Rating by Drug Type\n",
    "Create a boxplot to visualize the distribution of 'Pain_Rating' for each drug."
   ]
  },
  {
   "cell_type": "code",
   "execution_count": null,
   "id": "f6139c31",
   "metadata": {},
   "outputs": [],
   "source": [
    "import matplotlib.pyplot as plt\n",
    "\n",
    "Clinical_trial.boxplot(column='Pain_Rating', by='Drug')\n",
    "plt.title('Pain Rating Distribution by Drug')\n",
    "plt.suptitle('')\n",
    "plt.xlabel('Drug')\n",
    "plt.ylabel('Pain Rating')\n",
    "plt.show()"
   ]
  }
 ],
 "metadata": {
  "language_info": {
   "name": "python"
  }
 },
 "nbformat": 4,
 "nbformat_minor": 5
}
